{
  "nbformat": 4,
  "nbformat_minor": 0,
  "metadata": {
    "colab": {
      "provenance": [],
      "mount_file_id": "1lxd-QrwTpfiXfjGmdIJQhV7zCt0M4waZ",
      "authorship_tag": "ABX9TyOmjT+ngT2Zm1LSx5q8N0rb",
      "include_colab_link": true
    },
    "kernelspec": {
      "name": "python3",
      "display_name": "Python 3"
    },
    "language_info": {
      "name": "python"
    }
  },
  "cells": [
    {
      "cell_type": "markdown",
      "metadata": {
        "id": "view-in-github",
        "colab_type": "text"
      },
      "source": [
        "<a href=\"https://colab.research.google.com/github/bobby-py2002/FoodVision/blob/main/scrape.ipynb\" target=\"_parent\"><img src=\"https://colab.research.google.com/assets/colab-badge.svg\" alt=\"Open In Colab\"/></a>"
      ]
    },
    {
      "cell_type": "markdown",
      "source": [
        "scrape.py\n",
        "\n"
      ],
      "metadata": {
        "id": "9ZOWahzb22EA"
      }
    },
    {
      "cell_type": "code",
      "execution_count": 47,
      "metadata": {
        "id": "FVQGXhkF2jiY"
      },
      "outputs": [],
      "source": [
        "import requests\n",
        "import json\n",
        "from bs4 import BeautifulSoup"
      ]
    },
    {
      "cell_type": "code",
      "source": [
        "def scrape_recipe(url):\n",
        "  response = requests.get(url)\n",
        "  soup = BeautifulSoup(response.text , 'html.parser')\n",
        "\n",
        "  name = soup.find('h1').text.strip() if soup.find('h1') else None\n",
        "\n",
        "  ingredients=[\n",
        "      clean_text(ing.text) for ing in soup.select('.ingredient-list li')\n",
        "  ]\n",
        "\n",
        "\n",
        "\n",
        "  instructions = [\n",
        "      clean_text(ins.text) for ins in soup.select('.direction-list li')\n",
        "  ]\n",
        "\n",
        "  return {\n",
        "          'name':name,\n",
        "          'ingredients':ingredients ,\n",
        "          'instructions': instructions\n",
        "  }"
      ],
      "metadata": {
        "id": "Pa8Yn-bW4PVX"
      },
      "execution_count": 53,
      "outputs": []
    },
    {
      "cell_type": "code",
      "source": [
        "recipes = []\n",
        "urlz=['https://www.food.com/recipe/bagel-french-toast-casserole-362199']\n",
        "\n",
        "#error handling, if one url doesnt work program wont crash\n",
        "#it will log it and keep running for next urlz\n",
        "for url in urlz:\n",
        "  try:\n",
        "    recipes.append(scrape_recipe(url))\n",
        "  except Exception as e:\n",
        "    print(f\"error scraping {url}: {str(e)}\")\n",
        "\n"
      ],
      "metadata": {
        "id": "DvDTXwBi6mFQ"
      },
      "execution_count": 57,
      "outputs": []
    },
    {
      "cell_type": "code",
      "source": [
        "def clean_text(text):\n",
        "  #cleans weird spacing and newlines\n",
        "  return ' '.join(text.split()).replace('\\n',' ').strip()"
      ],
      "metadata": {
        "id": "J8yb3K7cMA-a"
      },
      "execution_count": 54,
      "outputs": []
    },
    {
      "cell_type": "code",
      "source": [
        "with open('/home/b_o_bby/FoodVision/data/processed/recipe.json','w',encoding ='utf-8') as jsofile:\n",
        "  json.dump(recipes,jsofile, indent=2 , ensure_ascii=False)"
      ],
      "metadata": {
        "id": "7HqapLF3_1qo"
      },
      "execution_count": 59,
      "outputs": []
    }
  ]
}