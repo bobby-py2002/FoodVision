{
  "nbformat": 4,
  "nbformat_minor": 0,
  "metadata": {
    "colab": {
      "provenance": [],
      "mount_file_id": "1lxd-QrwTpfiXfjGmdIJQhV7zCt0M4waZ",
      "authorship_tag": "ABX9TyNoryf4PKgt47kn2WPPfpq/",
      "include_colab_link": true
    },
    "kernelspec": {
      "name": "python3",
      "display_name": "Python 3"
    },
    "language_info": {
      "name": "python"
    }
  },
  "cells": [
    {
      "cell_type": "markdown",
      "metadata": {
        "id": "view-in-github",
        "colab_type": "text"
      },
      "source": [
        "<a href=\"https://colab.research.google.com/github/bobby-py2002/FoodVision/blob/main/scrape.ipynb\" target=\"_parent\"><img src=\"https://colab.research.google.com/assets/colab-badge.svg\" alt=\"Open In Colab\"/></a>"
      ]
    },
    {
      "cell_type": "markdown",
      "source": [
        "scrape.py\n",
        "\n"
      ],
      "metadata": {
        "id": "9ZOWahzb22EA"
      }
    },
    {
      "cell_type": "code",
      "source": [
        "import requests\n",
        "from bs4 import BeautifulSoup\n",
        "import json\n",
        "\n",
        "def clean_text(text):\n",
        "\n",
        "    return ' '.join(text.split()).replace('\\n', ' ').strip()\n",
        "\n",
        "def scrape_recipe(url):\n",
        "  try:\n",
        "    response = requests.get(url , timeout = 30)\n",
        "    response.raise_for_status()\n",
        "    print(response.raise_for_status())\n",
        "    soup = BeautifulSoup(response.text, 'html.parser')\n",
        "\n",
        "    name = (soup.find('h1', class_= 'recipe-title')\n",
        "            or\n",
        "            soup.select_one('h1[data-testid=\"recipe-title\"]')\n",
        "            or\n",
        "            soup.find('h1')\n",
        "            )\n",
        "    if name:\n",
        "      name = name.text.strip()\n",
        "\n",
        "    ingredients = [clean_text(ing.text) for ing in soup.select('.ingredient-list li')]\n",
        "    instructions = [clean_text(ins.text) for ins in soup.select('.direction-list li')]\n",
        "    return {\n",
        "        'name': name,\n",
        "        'ingredients': ingredients,\n",
        "        'instructions': instructions\n",
        "    }\n",
        "  except requests.exceptions.Timeout:\n",
        "     print(f\"🕒 Timeout: {url} (server too slow)\")\n",
        "     return None\n",
        "  except requests.exceptions.HTTPError as e:\n",
        "    print(f\"🚨 HTTP {e.response.status_code} error: {url}\")\n",
        "    return None\n",
        "  except Exception as e:\n",
        "    print(f\"💥 Unexpected error on {url}: {str(e)}\")\n",
        "\n",
        "recipes = []\n",
        "urls = ['https://www.food.com/recipe/bagel-french-toast-casserole-362199']\n",
        "\n",
        "for url in urls:\n",
        "    try:\n",
        "        recipes.append(scrape_recipe(url))\n",
        "    except Exception as e:\n",
        "        print(f\"Error: {e}\")\n",
        "\n",
        "with open('/home/recipes.json', 'w', encoding='utf-8') as f:\n",
        "    json.dump(recipes, f, indent=2, ensure_ascii=False)"
      ],
      "metadata": {
        "id": "EAXP7nfWPmYG",
        "outputId": "ac22404b-5408-4bcb-e63c-7e05a96a2301",
        "colab": {
          "base_uri": "https://localhost:8080/"
        }
      },
      "execution_count": 1,
      "outputs": [
        {
          "output_type": "stream",
          "name": "stdout",
          "text": [
            "None\n"
          ]
        }
      ]
    }
  ]
}