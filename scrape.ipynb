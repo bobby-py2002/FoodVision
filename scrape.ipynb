{
  "nbformat": 4,
  "nbformat_minor": 0,
  "metadata": {
    "colab": {
      "provenance": [],
      "mount_file_id": "1lxd-QrwTpfiXfjGmdIJQhV7zCt0M4waZ",
      "authorship_tag": "ABX9TyOKQ6wpPebr6lZK585CRpm2",
      "include_colab_link": true
    },
    "kernelspec": {
      "name": "python3",
      "display_name": "Python 3"
    },
    "language_info": {
      "name": "python"
    }
  },
  "cells": [
    {
      "cell_type": "markdown",
      "metadata": {
        "id": "view-in-github",
        "colab_type": "text"
      },
      "source": [
        "<a href=\"https://colab.research.google.com/github/bobby-py2002/FoodVision/blob/main/scrape.ipynb\" target=\"_parent\"><img src=\"https://colab.research.google.com/assets/colab-badge.svg\" alt=\"Open In Colab\"/></a>"
      ]
    },
    {
      "cell_type": "markdown",
      "source": [
        "scrape.py\n",
        "\n"
      ],
      "metadata": {
        "id": "9ZOWahzb22EA"
      }
    },
    {
      "cell_type": "code",
      "source": [
        "import requests\n",
        "from bs4 import BeautifulSoup\n",
        "import json\n",
        "\n",
        "def clean_text(text):\n",
        "\n",
        "    return ' '.join(text.split()).replace('\\n', ' ').strip()\n",
        "\n",
        "def scrape_recipe(url):\n",
        "\n",
        "    response = requests.get(url)\n",
        "    soup = BeautifulSoup(response.text, 'html.parser')\n",
        "\n",
        "    return {\n",
        "        'name': soup.find('h1').text.strip() if soup.find('h1') else None,\n",
        "        'ingredients': [clean_text(ing.text) for ing in soup.select('.ingredient-list li')],\n",
        "        'instructions': [clean_text(ins.text) for ins in soup.select('.direction-list li')]\n",
        "    }\n",
        "\n",
        "\n",
        "recipes = []\n",
        "urls = ['https://www.food.com/recipe/bagel-french-toast-casserole-362199']\n",
        "\n",
        "for url in urls:\n",
        "    try:\n",
        "        recipes.append(scrape_recipe(url))\n",
        "    except Exception as e:\n",
        "        print(f\"Error: {e}\")\n",
        "\n",
        "with open('/home/b_o_bby/FoodVision/data/processed/recipes.json', 'w', encoding='utf-8') as f:\n",
        "    json.dump(recipes, f, indent=2, ensure_ascii=False)"
      ],
      "metadata": {
        "id": "EAXP7nfWPmYG"
      },
      "execution_count": 8,
      "outputs": []
    }
  ]
}