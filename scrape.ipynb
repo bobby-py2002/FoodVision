{
  "nbformat": 4,
  "nbformat_minor": 0,
  "metadata": {
    "colab": {
      "provenance": [],
      "mount_file_id": "1lxd-QrwTpfiXfjGmdIJQhV7zCt0M4waZ",
      "authorship_tag": "ABX9TyPvf0yK0drd+HjSdIr2STrs",
      "include_colab_link": true
    },
    "kernelspec": {
      "name": "python3",
      "display_name": "Python 3"
    },
    "language_info": {
      "name": "python"
    }
  },
  "cells": [
    {
      "cell_type": "markdown",
      "metadata": {
        "id": "view-in-github",
        "colab_type": "text"
      },
      "source": [
        "<a href=\"https://colab.research.google.com/github/bobby-py2002/FoodVision/blob/main/scrape.ipynb\" target=\"_parent\"><img src=\"https://colab.research.google.com/assets/colab-badge.svg\" alt=\"Open In Colab\"/></a>"
      ]
    },
    {
      "cell_type": "markdown",
      "source": [
        "scrape.py\n",
        "\n"
      ],
      "metadata": {
        "id": "9ZOWahzb22EA"
      }
    },
    {
      "cell_type": "code",
      "execution_count": 38,
      "metadata": {
        "id": "FVQGXhkF2jiY"
      },
      "outputs": [],
      "source": [
        "import requests\n",
        "import json\n",
        "from bs4 import BeautifulSoup"
      ]
    },
    {
      "cell_type": "code",
      "source": [
        "def scrape_recipe(url):\n",
        "  response = requests.get(url)\n",
        "  soup = BeautifulSoup(response.text , 'html.parser')\n",
        "\n",
        "  name = soup.find('h1').text.strip() if soup.find('h1') else None\n",
        "\n",
        "  ingredients=[]\n",
        "  ingredient_elements= soup.select('.ingredient-list li')\n",
        "  for ing in ingredient_elements:\n",
        "    ingredients.append(ing.text.strip())\n",
        "\n",
        "\n",
        "  instructions = []\n",
        "  instruction_elements = soup.select('.direction-list li')\n",
        "  for ins in instruction_elements:\n",
        "    instructions.append(ins.text.strip())\n",
        "\n",
        "  return {\n",
        "          'name':name,\n",
        "          'ingredients':ingredients ,\n",
        "          'instructions': instructions\n",
        "  }"
      ],
      "metadata": {
        "id": "Pa8Yn-bW4PVX"
      },
      "execution_count": 39,
      "outputs": []
    },
    {
      "cell_type": "code",
      "source": [
        "recipes = []\n",
        "urlz=['https://www.food.com/recipe/bagel-french-toast-casserole-362199']\n",
        "\n",
        "#error handling, if one url doesnt work program wont crash\n",
        "#it will log it and keep running for next urlz\n",
        "for url in urlz:\n",
        "  try:\n",
        "    recipes.append(scrape_recipe(url))\n",
        "  except Exception as e:\n",
        "    print(f\"error scraping {url}: {str(e)}\")\n",
        "\n"
      ],
      "metadata": {
        "id": "DvDTXwBi6mFQ"
      },
      "execution_count": 40,
      "outputs": []
    },
    {
      "cell_type": "code",
      "source": [
        "with open('/home/b_o_bby/FoodVision/data/processed/recipe.json','w') as jsofile:\n",
        "  json.dump(recipes,jsofile, indent=2)"
      ],
      "metadata": {
        "id": "7HqapLF3_1qo"
      },
      "execution_count": 41,
      "outputs": []
    }
  ]
}